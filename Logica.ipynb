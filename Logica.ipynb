{
  "nbformat": 4,
  "nbformat_minor": 0,
  "metadata": {
    "colab": {
      "provenance": []
    },
    "kernelspec": {
      "name": "python3",
      "display_name": "Python 3"
    },
    "language_info": {
      "name": "python"
    }
  },
  "cells": [
    {
      "cell_type": "markdown",
      "source": [
        " ## **Primera practica IACD**\n",
        "Aris Vazdekis Soria y\n",
        "Alejandra Ruiz de Adana Fleitas"
      ],
      "metadata": {
        "id": "l_7J1DebjjSI"
      }
    },
    {
      "cell_type": "markdown",
      "source": [
        "Librerias"
      ],
      "metadata": {
        "id": "OwgZ8g8hsIUD"
      }
    },
    {
      "cell_type": "code",
      "source": [
        "import random\n",
        "import string"
      ],
      "metadata": {
        "id": "t2gaOATpsHyB"
      },
      "execution_count": 1,
      "outputs": []
    },
    {
      "cell_type": "markdown",
      "source": [
        "Regularización"
      ],
      "metadata": {
        "id": "zIt4L7afl8El"
      }
    },
    {
      "cell_type": "code",
      "source": [
        "def regularizacion(formula, diccionario_comprobador):\n",
        "    \"\"\"Comprueba si la formula pasada es correcta o tiene fallas en su escritura\"\"\"\n",
        "    operadores = \"!|&>=()\"  # Operadores lógicos permitidos\n",
        "    letras_permitidas = set(string.ascii_lowercase)  # Todas las letras minúsculas\n",
        "    formula_completa = formula #esto se lo pasaremos a separador para que tome como referencia la formula completa para\n",
        "                               #cuando generador_aleatorio_letra tome todas las letras y no solo una (este fue el fallo\n",
        "                               #por el que no nos funcionaban formulas complejas)\n",
        "\n",
        "    parentesis = []  # Utilizamos una pila para verificar los paréntesis\n",
        "    for i in range(len(formula)):\n",
        "        if formula[i] in letras_permitidas or formula[i] in operadores:\n",
        "            if formula[i] == '!':\n",
        "                if (formula[i + 1] in letras_permitidas or formula[i + 1] == \"!\" or formula[i + 1] == \"(\") and (formula[i - 1] not in letras_permitidas or i == 0 or formula[i - 1] == \"!\"):\n",
        "                    continue\n",
        "                else:\n",
        "                    print(\"El operador ! tiene mal asociado su término.\")\n",
        "                    return False\n",
        "\n",
        "            if formula[i] in ['|', '&', '>', '=']:\n",
        "                if (formula[i + 1] in letras_permitidas or formula[i + 1] in \"(\" or  formula[i + 1] in \"!\") and (formula[i - 1] in letras_permitidas or  formula[i - 1] in \")\"):\n",
        "                    continue\n",
        "                else:\n",
        "                    print(\"El operador \" + formula[i] + \" tiene mal asociado su término.\")\n",
        "                    return False\n",
        "\n",
        "            if formula[i] == '(':\n",
        "                parentesis.append(formula[i])  # Agregar a la pila si encontramos un paréntesis de apertura\n",
        "            elif formula[i] == ')':\n",
        "                if '(' not in parentesis:\n",
        "                    print(\"La fórmula es incorrecta y no se puede procesar. Paréntesis desbalanceados.\")\n",
        "                    return False\n",
        "                else:\n",
        "                    parentesis.pop()  # Si encontramos un paréntesis de cierre, eliminamos uno de la pila\n",
        "        else:\n",
        "            print(\"La fórmula es incorrecta y no se puede procesar. Carácter no permitido:\", formula[i])\n",
        "            return False\n",
        "\n",
        "    if '(' in parentesis:\n",
        "        print(\"La fórmula es incorrecta y no se puede procesar. Paréntesis desbalanceados.\")\n",
        "        return False\n",
        "    else:\n",
        "        print(\"La fórmula es correcta y puede procesarse.\")\n",
        "        formula = separador(formula, diccionario_comprobador, formula_completa)\n",
        "    return formula"
      ],
      "metadata": {
        "id": "VQMjuc0Ol-ZX"
      },
      "execution_count": 2,
      "outputs": []
    },
    {
      "cell_type": "markdown",
      "source": [
        "Crear diccionario de vectores\n"
      ],
      "metadata": {
        "id": "zHQHIXjmVFxR"
      }
    },
    {
      "cell_type": "code",
      "execution_count": 3,
      "metadata": {
        "id": "elb9Vh0IU-9H"
      },
      "outputs": [],
      "source": [
        "def contador_letras(formula):\n",
        "    \"\"\"Esta funcion contara y almacenara en una lista todas las letras que haya\n",
        "    en la formula\"\"\"\n",
        "    letras_vistas = []  # lista para almacenar las letras que ya hemos visto y evitar duplicados\n",
        "    for letra in formula:\n",
        "        if letra.isalpha() and letra not in letras_vistas: #.isalpha() verifica que sea del rango a-z\n",
        "            letras_vistas.append(letra)\n",
        "    return letras_vistas\n",
        "\n",
        "def generador_diccionario(formula):\n",
        "    \"\"\"Genera un diccionario conteniendo como claves las letras de la formula y\n",
        "    como valor su tabla de verdad correspondiente\"\"\"\n",
        "    letras_vistas = contador_letras(formula)\n",
        "    num_variables = len(letras_vistas)\n",
        "    print(num_variables)\n",
        "    num_filas = 2 ** num_variables #puesto que segun el nº de variables la longitud del vector varía\n",
        "    diccionario_comprobador = {}\n",
        "\n",
        "    #construccion de las tablas de verdad para cada letra\n",
        "    for i in range(num_filas):\n",
        "        fila = []\n",
        "        for j in range(num_variables):\n",
        "            fila.append((i // (2 ** j)) % 2) #esta expresion es un truco común para generar secuencias\n",
        "            #binarias. Básicamente, divide i por 2 elevado a j y toma\n",
        "            #el residuo de la división por 2. Esto genera una secuencia\n",
        "            #binaria de valores que se repiten cada vez que i incrementa.\n",
        "        for k, letra in enumerate(letras_vistas):\n",
        "            diccionario_comprobador[letra] = diccionario_comprobador.get(letra, []) + [fila[k]]\n",
        "\n",
        "    return diccionario_comprobador"
      ]
    },
    {
      "cell_type": "markdown",
      "source": [
        "Buscar las letras en el diccionario"
      ],
      "metadata": {
        "id": "V3Ffy4Eegss6"
      }
    },
    {
      "cell_type": "code",
      "source": [
        "def comprobador( diccionario_comprobador, n, n_1):\n",
        "    \"\"\"Comprueba si existe la letra n y devuelve su valor\"\"\"\n",
        "    if n in diccionario_comprobador:\n",
        "        valor = diccionario_comprobador[n]\n",
        "    if n_1 in diccionario_comprobador:\n",
        "        valor = diccionario_comprobador[n_1]\n",
        "    return valor"
      ],
      "metadata": {
        "id": "FTJLQN6kgtEK"
      },
      "execution_count": 4,
      "outputs": []
    },
    {
      "cell_type": "markdown",
      "source": [
        "Elegir letra aleatoria"
      ],
      "metadata": {
        "id": "-178TPg4rmu1"
      }
    },
    {
      "cell_type": "code",
      "source": [
        "def generar_letra_aleatoria(formula):\n",
        "    \"\"\"Se utiliza para cada trozo de formula que el programa vaya resolviendo de manera individual,\n",
        "    asignarle una letra como clave para añadirla al diccionario y poder operar asi con ella\"\"\"\n",
        "    letras_formula = set(c.lower() for c in formula if c.isalpha())\n",
        "    todas_letras = set(string.ascii_lowercase)\n",
        "    letras_disponibles = todas_letras - letras_formula\n",
        "    if letras_disponibles:\n",
        "        return random.choice(list(letras_disponibles))\n",
        "    else:\n",
        "        print(\"La formula es demasiado grande para procesarse\")\n",
        "        return None  # No hay letras disponibles"
      ],
      "metadata": {
        "id": "wIvWkW4VrnMV"
      },
      "execution_count": 5,
      "outputs": []
    },
    {
      "cell_type": "markdown",
      "source": [
        "Transformar la formula"
      ],
      "metadata": {
        "id": "CNmcv57pVNc-"
      }
    },
    {
      "cell_type": "code",
      "source": [
        "def borrador(formula, letranueva, letra_actual1, letra_actual2):\n",
        "    \"\"\"Utiliza la formula original para modificar cada parte resuelta y actualizarla con su respectiva letra identificadora.\n",
        "    Ejemplo: (p&!q)|(r&s) ---> a = (p&!q) ---> a|(r&s)\"\"\"\n",
        "    i = 0\n",
        "    #Iteramos sobre la fórmula para buscar y eliminar la letra actual\n",
        "    while i < len(formula):\n",
        "        if formula[i] == letra_actual1 or formula[i] == letra_actual2:\n",
        "            if formula[i-1] == \"!\":\n",
        "                inicio = i - 1\n",
        "                final = i + 1\n",
        "                formula = formula[:inicio] + letranueva + formula[final:]\n",
        "                i = inicio + 1\n",
        "\n",
        "            if formula[i - 1] == '&' or formula[i - 1] == '|':\n",
        "                inicio = i - 2\n",
        "                final = i + 1\n",
        "                formula = formula[:inicio] + letranueva + formula[final:]\n",
        "                i = inicio + 1\n",
        "\n",
        "            if formula[i - 1] == '>' or formula[i - 1] == '=':\n",
        "                inicio = i - 2\n",
        "                final = i + 1\n",
        "                formula = formula[:inicio] + letranueva + formula[final:]\n",
        "                i = inicio + 1\n",
        "        i += 1\n",
        "    return formula"
      ],
      "metadata": {
        "id": "L9yFPHNrVNCJ"
      },
      "execution_count": 6,
      "outputs": []
    },
    {
      "cell_type": "markdown",
      "source": [
        "Separar la formula"
      ],
      "metadata": {
        "id": "b9B3tcnFVQuG"
      }
    },
    {
      "cell_type": "code",
      "source": [
        "def separador(formula, diccionario_comprobador, formula_completa):\n",
        "    \"\"\"Esta funcion se va a encargar de operar la formula y mandar cada parte de la formula a su\n",
        "    correspondiente funcion para calcular su resultado\"\"\"\n",
        "    while len(formula) > 1:  # Repetir hasta que solo quede una letra en la fórmula\n",
        "\n",
        "        while \"(\" in formula:\n",
        "            inicio_parentesis = formula.rfind(\"(\")  # Encontrar el último paréntesis de apertura\n",
        "            fin_parentesis = formula.index(\")\", inicio_parentesis)  # Encontrar el paréntesis de cierre correspondiente\n",
        "\n",
        "            # Manejar paréntesis anidados\n",
        "            contador = 1\n",
        "            for i in range(inicio_parentesis + 1, len(formula)):\n",
        "                if formula[i] == \"(\":\n",
        "                    contador += 1\n",
        "                elif formula[i] == \")\":\n",
        "                    contador -= 1\n",
        "                    if contador == 0:\n",
        "                        fin_parentesis = i\n",
        "                        break\n",
        "\n",
        "            subformula = formula[inicio_parentesis + 1:fin_parentesis]  # Extraer la subfórmula dentro del paréntesis\n",
        "            resultado_subformula = separador(subformula, diccionario_comprobador, formula_completa)  # Resolver la subfórmula recursivamente\n",
        "            formula = formula[:inicio_parentesis] + resultado_subformula + formula[fin_parentesis + 1:]  # Reemplazar la subfórmula por su resultado en la fórmula original\n",
        "            continue  # Continuar con el siguiente ciclo sin procesar el resto de la fórmula actual\n",
        "\n",
        "        # Manejar las negaciones primero\n",
        "        while \"!\" in formula:\n",
        "            vector1 = []\n",
        "            i = 0  # Reiniciar el índice\n",
        "            while i < len(formula):\n",
        "                if formula[i] == \"!\" and formula[i+1] in string.ascii_lowercase:\n",
        "                    n = formula[i + 1]\n",
        "                    vector1 = comprobador(diccionario_comprobador, n, None)\n",
        "                    vector1 = isNegacion(vector1)\n",
        "                    letra_aleatoria = generar_letra_aleatoria(formula_completa)\n",
        "                    diccionario_comprobador[letra_aleatoria] = vector1\n",
        "                    formula = borrador(formula, letra_aleatoria, n, \" \")\n",
        "                    break  # Salir del bucle interior después de manejar la negación\n",
        "                i += 1  # Incrementar el índice\n",
        "\n",
        "        # Manejar las disyunciones y conjunciones\n",
        "        while \"|\" in formula or \"&\" in formula:\n",
        "            vector1 = []\n",
        "            vector2 = []\n",
        "            i = 0  # Reiniciar el índice\n",
        "            while i < len(formula):\n",
        "                if formula[i] == \"|\" or formula[i] == \"&\":\n",
        "                    n = formula[i + 1]\n",
        "                    n_1 = formula[i - 1]\n",
        "\n",
        "                    vector1 = comprobador(diccionario_comprobador, n, None)\n",
        "                    vector2 = comprobador(diccionario_comprobador, None, n_1)\n",
        "\n",
        "                    if formula[i] == \"|\":\n",
        "                        vectores_1_2 = isDisyuncion(vector1, vector2)\n",
        "                    if formula[i] == \"&\":\n",
        "                        vectores_1_2 = isConjuncion(vector1, vector2)\n",
        "\n",
        "                    letra_aleatoria = generar_letra_aleatoria(formula_completa)\n",
        "                    diccionario_comprobador[letra_aleatoria] = vectores_1_2\n",
        "                    formula = borrador(formula, letra_aleatoria, n, n_1)\n",
        "                    break  # Salir del bucle interior después de manejar la disyunción o conjunción\n",
        "                i += 1  # Incrementar el índice\n",
        "\n",
        "        # Manejar las implicaciones y dobles implicaciones\n",
        "        while \">\" in formula or \"=\" in formula:\n",
        "            vector1 = []\n",
        "            vector2 = []\n",
        "            i = 0  # Reiniciar el índice\n",
        "            while i < len(formula):\n",
        "                if formula[i] == \">\" or formula[i] == \"=\":\n",
        "                    n = formula[i + 1]\n",
        "                    n_1 = formula[i - 1]\n",
        "\n",
        "                    vector1 = comprobador(diccionario_comprobador, n, None)\n",
        "                    vector2 = comprobador(diccionario_comprobador, None, n_1)\n",
        "\n",
        "                    if formula[i] == \">\":\n",
        "                        vectores_1_2 = isImplicacion(vector1, vector2)\n",
        "                    if formula[i] == \"=\":\n",
        "                        vectores_1_2 = isDobleimplicacion(vector1, vector2)\n",
        "\n",
        "                    letra_aleatoria = generar_letra_aleatoria(formula_completa)\n",
        "                    diccionario_comprobador[letra_aleatoria] = vectores_1_2\n",
        "                    formula = borrador(formula, letra_aleatoria, n, n_1)\n",
        "                    break  # Salir del bucle interior después de manejar la implicación o doble implicación\n",
        "                i += 1  # Incrementar el índice\n",
        "\n",
        "        # Después de manejar cada operador, verificamos si quedan operadores por manejar\n",
        "        if \"!\" not in formula and \"|\" not in formula and \"&\" not in formula and \">\" not in formula and \"=\" not in formula:\n",
        "            break  # Si no quedan operadores, detenemos el bucle\n",
        "\n",
        "\n",
        "    return formula  # Asegurarse de devolver la fórmula final al final de la función"
      ],
      "metadata": {
        "id": "P7sg9Z1DVVzZ"
      },
      "execution_count": 7,
      "outputs": []
    },
    {
      "cell_type": "markdown",
      "source": [
        "Funciones Logicas"
      ],
      "metadata": {
        "id": "YfPFphdfVb5R"
      }
    },
    {
      "cell_type": "code",
      "source": [
        "def isNegacion(lista):\n",
        "    \"\"\"Opera las negaciones de la formula dada\"\"\"\n",
        "    resultado = []  #Para mantener la letra identificadora\n",
        "    for valor in lista:\n",
        "        if valor == 0:\n",
        "            resultado.append(1)\n",
        "        elif valor == 1:\n",
        "            resultado.append(0)\n",
        "\n",
        "    return resultado\n",
        "\n",
        "\n",
        "def isDisyuncion(lista1, lista2):\n",
        "    \"\"\"Observa dos listas y genera el resultado de disyuncion\"\"\"\n",
        "    disyuncion = []\n",
        "    for valor1, valor2 in zip(lista1, lista2):\n",
        "        if valor1 == 1 and valor2 == 1:\n",
        "            disyuncion.append(1)\n",
        "        elif valor1 != valor2:\n",
        "            disyuncion.append(1)\n",
        "        elif valor1 == 0 and valor2 == 0:\n",
        "            disyuncion.append(0)\n",
        "    return disyuncion\n",
        "\n",
        "def isConjuncion(lista1, lista2):\n",
        "    \"\"\"Observa dos listas y genera el resultado de conjuncion\"\"\"\n",
        "    conjuncion = []\n",
        "    for valor1, valor2 in zip(lista1, lista2):\n",
        "        if valor1 == 1 and valor2 == 1:\n",
        "            conjuncion.append(1)\n",
        "        elif valor1 != valor2:\n",
        "            conjuncion.append(0)\n",
        "        elif valor1 == 0 and valor2 == 0:\n",
        "            conjuncion.append(0)\n",
        "    return conjuncion\n",
        "\n",
        "def isImplicacion(lista1, lista2):\n",
        "    \"\"\"Observa dos listas y genera el resultado de implicacion\"\"\"\n",
        "    implicacion = []\n",
        "    for valor1, valor2 in zip(lista1, lista2):\n",
        "        if valor1 == valor2:\n",
        "            implicacion.append(1)\n",
        "        elif valor1 == 1 and valor2 == 0:\n",
        "            implicacion.append(0)\n",
        "        elif valor1 == 0 and valor2 == 1:\n",
        "            implicacion.append(1)\n",
        "    return implicacion\n",
        "\n",
        "def isDobleimplicacion(lista1, lista2):\n",
        "    \"\"\"Observa dos listas y genera el resultado de doble implicacion\"\"\"\n",
        "    dobleimplicacion = []\n",
        "    for valor1, valor2 in zip(lista1, lista2):\n",
        "        if valor1 == valor2:\n",
        "            dobleimplicacion.append(1)\n",
        "        elif valor1 != valor2:\n",
        "            dobleimplicacion.append(0)\n",
        "    return dobleimplicacion"
      ],
      "metadata": {
        "id": "Vylzh-1pVbYo"
      },
      "execution_count": 8,
      "outputs": []
    },
    {
      "cell_type": "markdown",
      "source": [
        "Generar tabla de verdad"
      ],
      "metadata": {
        "id": "SpWuoDDuhHYj"
      }
    },
    {
      "cell_type": "code",
      "source": [
        "def imprimir_tabla_verdad(formula, diccionario, letra_resultado):\n",
        "    n_letras = contador_letras(formula)\n",
        "    longitud = len(n_letras)\n",
        "    if longitud == 0:\n",
        "        print(\"Formula vacia\")\n",
        "        return\n",
        "    \"\"\"Va a imprimir la tabla de la verdad recorriendo el diccionario de las letras y sus respectivos valores\"\"\"\n",
        "    letras_vistas = []  #lista para almacenar las letras que ya hemos visto y evitar duplicados\n",
        "    valores = []  #lista para almacenar los valores de las letras que printearemos en tabla verdad\n",
        "    for letra in formula:\n",
        "        if letra.isalpha() and letra in diccionario and letra not in letras_vistas:\n",
        "            letras_vistas.append(letra)\n",
        "            valores.append(diccionario[letra])\n",
        "\n",
        "    valores_ultima_letra = diccionario[letra_resultado]\n",
        "\n",
        "    #IMPRIMIR LA TABLA DE VERDAD\n",
        "    print(\"\\n\\nTabla de verdad:\\n\")\n",
        "    encabezado = \"\\t\".join(letras_vistas + [formula])\n",
        "    separador = \"-\" * (len(encabezado) + len(letras_vistas) * 6)\n",
        "    print(encabezado)\n",
        "    print(separador)\n",
        "    for fila, valor in zip(zip(*valores), valores_ultima_letra):\n",
        "        fila_str = \"\\t\".join(str(v) for v in fila) + \"\\t\" + str(valor)\n",
        "        print(fila_str)"
      ],
      "metadata": {
        "id": "EWtzjDQnhJu-"
      },
      "execution_count": 39,
      "outputs": []
    },
    {
      "cell_type": "markdown",
      "source": [
        "Ejecutar ejercicio"
      ],
      "metadata": {
        "id": "c_akBbFPVh0m"
      }
    },
    {
      "cell_type": "code",
      "source": [
        "print(\"Ingrese una formula válida: \")\n",
        "formula = input()\n",
        "formula = formula.replace(\" \", \"\")\n",
        "diccionario_comprobador = generador_diccionario(formula)\n",
        "\n",
        "letra_resultado = regularizacion(formula, diccionario_comprobador)\n",
        "imprimir_tabla_verdad(formula, diccionario_comprobador, letra_resultado)\n"
      ],
      "metadata": {
        "colab": {
          "base_uri": "https://localhost:8080/"
        },
        "id": "4Drz8wQ0VhU3",
        "outputId": "65b7fe9b-c11b-4fa1-f214-f8bee778e007"
      },
      "execution_count": 43,
      "outputs": [
        {
          "output_type": "stream",
          "name": "stdout",
          "text": [
            "Ingrese una formula válida: \n",
            "()u&p\n",
            "2\n",
            "La fórmula es correcta y puede procesarse.\n",
            "\n",
            "\n",
            "Tabla de verdad:\n",
            "\n",
            "u\tp\t()u&p\n",
            "---------------------\n",
            "0\t0\t0\n",
            "1\t0\t0\n",
            "0\t1\t0\n",
            "1\t1\t1\n"
          ]
        }
      ]
    }
  ]
}